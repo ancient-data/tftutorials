{
 "cells": [
  {
   "cell_type": "markdown",
   "metadata": {},
   "source": [
    "<img align=\"right\" src=\"images/tf.png\" width=\"128\"/>\n",
    "<img align=\"right\" src=\"images/ninologo.png\" width=\"128\"/>\n",
    "<img align=\"right\" src=\"images/dans.png\" width=\"128\"/>\n",
    "\n",
    "---\n",
    "\n",
    "To see the pos tag creation: consult [posTag](posTag.ipynb)\n",
    "\n",
    "---\n",
    "\n",
    "# Use the Part of Speech tagging"
   ]
  },
  {
   "cell_type": "markdown",
   "metadata": {},
   "source": [
    "# Usage\n",
    "\n",
    "For now, you can make use of a bunch of sets in your queries, whether in the TF-browser or in a notebook.\n",
    "\n",
    "## Getting the sets\n",
    "\n",
    "Here is how you can get the sets.\n",
    "\n",
    "### With Dropbox\n",
    "\n",
    "If you are synchronized to the `obb` shared folder on Dropbox\n",
    "(that means, you have installed the Dropbox client and accepted the invitation to `obb`):\n",
    "\n",
    "You are all set, you have the newest version of the sets file on your computer seconds after\n",
    "it has been updated.\n",
    "\n",
    "### With Github\n",
    "\n",
    "First get the tutorials repo:\n",
    "\n",
    "For the first time:\n",
    "\n",
    "```sh\n",
    "cd ~/github/annotation\n",
    "git clone https://github.com/annotation/tutorials\n",
    "```\n",
    "\n",
    "Advice: do not work in your clone directly, but in a working directory outside this clone.\n",
    "When you want to get updates the repo:\n",
    "\n",
    "```sh\n",
    "cd ~/github/annotation/tutorials\n",
    "git pull origin master\n",
    "```\n",
    "\n",
    "(This will fail if you have worked inside your clone).\n",
    "\n",
    "## Using the sets and features\n",
    "\n",
    "You can use the sets and features directly in your programs, or in TF-queries, whether in notebooks or in the TF-browser.\n",
    "\n",
    "### TF-browser\n",
    "\n",
    "To start the TF browser:\n",
    "\n",
    "```sh\n",
    "text-fabric oldbabylonian --sets=~/Dropbox/obb/sets.tfx --mod=annotation/tutorials/oldbabylonian/cookbook/pos/tf\n",
    "```\n",
    "\n",
    "or \n",
    "\n",
    "```sh\n",
    "text-fabric oldbabylonian --sets=~/github/annotation/tutorials/oldbabylonian/cookbook/sets.tfx --mod=annotation/tutorials/oldbabylonian/cookbook/pos/tf\n",
    "```\n",
    "\n",
    "### In notebooks\n",
    "\n",
    "This notebook is an example of how you can work with the new data.\n",
    "\n",
    "## Using sets in queries\n",
    "\n",
    "You can use the names of sets in all places where you currently use `word`, `sign`, `face`, etc.\n",
    "More info in the [docs](https://annotation.github.io/text-fabric/Use/Search/#search-template-reference)."
   ]
  },
  {
   "cell_type": "code",
   "execution_count": null,
   "metadata": {},
   "outputs": [],
   "source": [
    "from tf.app import use"
   ]
  },
  {
   "cell_type": "code",
   "execution_count": null,
   "metadata": {},
   "outputs": [],
   "source": [
    "A = use('oldbabylonian', hoist=globals(), mod='ancient-data/tftutorials/oldbabylonian/pos/tf:clone')"
   ]
  },
  {
   "cell_type": "markdown",
   "metadata": {},
   "source": [
    "Note that the features `pos` and `subpos` and friends are loaded now.\n",
    "\n",
    "Let's print the frequency lists of their values.\n",
    "First a convenience function to print the frequency list of an arbitrary feature."
   ]
  },
  {
   "cell_type": "code",
   "execution_count": null,
   "metadata": {},
   "outputs": [],
   "source": [
    "def freqList(feat):\n",
    "  for (p, n) in Fs(feat).freqList():\n",
    "    print(f'{p:<12}: {n:>5} x')"
   ]
  },
  {
   "cell_type": "code",
   "execution_count": null,
   "metadata": {},
   "outputs": [],
   "source": [
    "freqList('pos')"
   ]
  },
  {
   "cell_type": "code",
   "execution_count": null,
   "metadata": {},
   "outputs": [],
   "source": [
    "freqList('subpos')"
   ]
  },
  {
   "cell_type": "code",
   "execution_count": null,
   "metadata": {},
   "outputs": [],
   "source": [
    "freqList('cs')"
   ]
  },
  {
   "cell_type": "code",
   "execution_count": null,
   "metadata": {},
   "outputs": [],
   "source": [
    "freqList('ps')"
   ]
  },
  {
   "cell_type": "code",
   "execution_count": null,
   "metadata": {},
   "outputs": [],
   "source": [
    "freqList('gn')"
   ]
  },
  {
   "cell_type": "code",
   "execution_count": null,
   "metadata": {},
   "outputs": [],
   "source": [
    "freqList('nu')"
   ]
  },
  {
   "cell_type": "markdown",
   "metadata": {},
   "source": [
    "We still need to load the sets."
   ]
  },
  {
   "cell_type": "code",
   "execution_count": null,
   "metadata": {},
   "outputs": [],
   "source": [
    "from tf.lib import readSets"
   ]
  },
  {
   "cell_type": "code",
   "execution_count": null,
   "metadata": {},
   "outputs": [],
   "source": [
    "sets = readSets('~/github/annotation/tutorials/oldbabylonian/cookbook/sets.tfx')\n",
    "sorted(sets)"
   ]
  },
  {
   "cell_type": "markdown",
   "metadata": {},
   "source": [
    "We perform a query with the new sets:"
   ]
  },
  {
   "cell_type": "code",
   "execution_count": null,
   "metadata": {},
   "outputs": [],
   "source": [
    "query = '''\n",
    "pclneg\n",
    "<: noun\n",
    "'''\n",
    "results = A.search(query)"
   ]
  },
  {
   "cell_type": "markdown",
   "metadata": {},
   "source": [
    "Oops! We need to tell `A.search()` to use the sets."
   ]
  },
  {
   "cell_type": "code",
   "execution_count": null,
   "metadata": {},
   "outputs": [],
   "source": [
    "query = '''\n",
    "pclneg\n",
    "<: noun\n",
    "'''\n",
    "results = A.search(query, sets=sets)"
   ]
  },
  {
   "cell_type": "code",
   "execution_count": null,
   "metadata": {},
   "outputs": [],
   "source": [
    "A.table(results, end=10)"
   ]
  },
  {
   "cell_type": "markdown",
   "metadata": {},
   "source": [
    "Why not ask for preposition-pronoun combinations?"
   ]
  },
  {
   "cell_type": "code",
   "execution_count": null,
   "metadata": {},
   "outputs": [],
   "source": [
    "query = '''\n",
    "pclneg\n",
    "<: prnprs\n",
    "'''\n",
    "results = A.search(query, sets=sets)"
   ]
  },
  {
   "cell_type": "code",
   "execution_count": null,
   "metadata": {},
   "outputs": [],
   "source": [
    "A.table(results, end=10)"
   ]
  },
  {
   "cell_type": "markdown",
   "metadata": {},
   "source": [
    "---\n",
    "\n",
    "full posTag and pos notebooks on\n",
    "[annotation/tutorials/oldbabylonian/cookbook](https://nbviewer.jupyter.org/github/annotation/tutorials/blob/master/oldbabylonian/cookbook)\n",
    "\n",
    "full tutorial on\n",
    "[annotation/tutorials/oldbabylonian](https://nbviewer.jupyter.org/github/annotation/tutorials/blob/master/oldbabylonian)"
   ]
  },
  {
   "cell_type": "markdown",
   "metadata": {},
   "source": [
    "# And so on for more corpora\n",
    "\n",
    "* Hebrew Bible\n",
    "* Quran\n",
    "* Uruk\n",
    "* Peshitta\n",
    "\n",
    "and [more](https://annotation.github.io/text-fabric/About/Corpora/)."
   ]
  }
 ],
 "metadata": {
  "kernelspec": {
   "display_name": "Python 3",
   "language": "python",
   "name": "python3"
  },
  "language_info": {
   "codemirror_mode": {
    "name": "ipython",
    "version": 3
   },
   "file_extension": ".py",
   "mimetype": "text/x-python",
   "name": "python",
   "nbconvert_exporter": "python",
   "pygments_lexer": "ipython3",
   "version": "3.7.2"
  }
 },
 "nbformat": 4,
 "nbformat_minor": 4
}

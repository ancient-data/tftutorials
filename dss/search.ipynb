{
 "cells": [
  {
   "cell_type": "markdown",
   "metadata": {},
   "source": [
    "<img align=\"right\" src=\"images/tf.png\" width=\"128\"/>\n",
    "<img align=\"right\" src=\"images/logo.png\" width=\"128\"/>\n",
    "<img align=\"right\" src=\"images/etcbc.png\" width=\"128\"/>\n",
    "<img align=\"right\" src=\"images/dans.png\" width=\"128\"/>\n",
    "\n",
    "previous: [start](start.ipynb)\n",
    "\n",
    "---\n",
    "\n",
    "# Search"
   ]
  },
  {
   "cell_type": "code",
   "execution_count": null,
   "metadata": {
    "ExecuteTime": {
     "end_time": "2018-05-24T10:06:39.818664Z",
     "start_time": "2018-05-24T10:06:39.796588Z"
    }
   },
   "outputs": [],
   "source": [
    "from tf.app import use"
   ]
  },
  {
   "cell_type": "code",
   "execution_count": null,
   "metadata": {
    "ExecuteTime": {
     "end_time": "2018-05-24T10:06:51.615044Z",
     "start_time": "2018-05-24T10:06:50.161456Z"
    }
   },
   "outputs": [],
   "source": [
    "A = use('dss', hoist=globals(), silent='deep')\n",
    "silentOff()"
   ]
  },
  {
   "cell_type": "markdown",
   "metadata": {},
   "source": [
    "# Uncertain hitpael"
   ]
  },
  {
   "cell_type": "code",
   "execution_count": null,
   "metadata": {
    "ExecuteTime": {
     "end_time": "2018-05-24T07:46:55.998382Z",
     "start_time": "2018-05-24T07:46:55.137956Z"
    }
   },
   "outputs": [],
   "source": [
    "query = '''\n",
    "word vs=hitpael\n",
    "  sign unc\n",
    "'''\n",
    "results = A.search(query)\n",
    "A.table(results, end=10, fmt='layout-orig-full')"
   ]
  },
  {
   "cell_type": "code",
   "execution_count": null,
   "metadata": {
    "ExecuteTime": {
     "end_time": "2018-05-24T07:47:06.875859Z",
     "start_time": "2018-05-24T07:47:06.757345Z"
    }
   },
   "outputs": [],
   "source": [
    "A.show(results, fmt='layout-orig-full', start=1, end=3)"
   ]
  },
  {
   "cell_type": "markdown",
   "metadata": {},
   "source": [
    "# Proper nouns and paleo Hebrew script"
   ]
  },
  {
   "cell_type": "code",
   "execution_count": null,
   "metadata": {
    "ExecuteTime": {
     "end_time": "2018-05-24T07:47:14.547656Z",
     "start_time": "2018-05-24T07:47:14.544433Z"
    }
   },
   "outputs": [],
   "source": [
    "query = '''\n",
    "line\n",
    "  word sp=subs cl=prp\n",
    "  word script=paleohebrew\n",
    "% NB: the order of both words is not specified\n",
    "% NB: both 'word' items may be instantiated by the same word\n",
    "'''"
   ]
  },
  {
   "cell_type": "code",
   "execution_count": null,
   "metadata": {
    "ExecuteTime": {
     "end_time": "2018-05-24T07:47:18.913432Z",
     "start_time": "2018-05-24T07:47:17.357992Z"
    }
   },
   "outputs": [],
   "source": [
    "results = A.search(query)\n",
    "A.table(results, start=22, end=25, fmt='layout-orig-full')"
   ]
  },
  {
   "cell_type": "code",
   "execution_count": null,
   "metadata": {
    "ExecuteTime": {
     "end_time": "2018-05-24T07:47:18.913432Z",
     "start_time": "2018-05-24T07:47:17.357992Z"
    }
   },
   "outputs": [],
   "source": [
    "A.table(results, start=30, end=40, fmt='layout-orig-full')"
   ]
  },
  {
   "cell_type": "code",
   "execution_count": null,
   "metadata": {
    "ExecuteTime": {
     "end_time": "2018-05-24T07:47:18.913432Z",
     "start_time": "2018-05-24T07:47:17.357992Z"
    }
   },
   "outputs": [],
   "source": [
    "query = '''\n",
    "line scroll=4Q318 fragment=4 line=9\n",
    "  word sp=subs cl=prp\n",
    "  word script=paleohebrew\n",
    "'''\n",
    "results = A.search(query)\n",
    "A.table(results, fmt='layout-orig-full', condensed=True)"
   ]
  },
  {
   "cell_type": "code",
   "execution_count": null,
   "metadata": {
    "ExecuteTime": {
     "end_time": "2018-05-24T07:47:21.573937Z",
     "start_time": "2018-05-24T07:47:21.561079Z"
    }
   },
   "outputs": [],
   "source": [
    "A.show(results, end=2, withNodes=True, fmt='layout-orig-full', condensed=True)"
   ]
  },
  {
   "cell_type": "markdown",
   "metadata": {},
   "source": [
    "# Custom highlighting"
   ]
  },
  {
   "cell_type": "code",
   "execution_count": null,
   "metadata": {
    "ExecuteTime": {
     "end_time": "2018-05-24T07:47:14.547656Z",
     "start_time": "2018-05-24T07:47:14.544433Z"
    }
   },
   "outputs": [],
   "source": [
    "query = '''\n",
    "line\n",
    "  word sp=verb\n",
    "  word sp=subs cl=prp\n",
    "    sign cor\n",
    "'''"
   ]
  },
  {
   "cell_type": "code",
   "execution_count": null,
   "metadata": {},
   "outputs": [],
   "source": [
    "results = A.search(query)\n",
    "\n",
    "colorMap = {2: '', 3: 'cyan', 4: 'magenta'}\n",
    "\n",
    "A.table(results, end=10, fmt='layout-orig-full', colorMap=colorMap)"
   ]
  },
  {
   "cell_type": "code",
   "execution_count": null,
   "metadata": {
    "ExecuteTime": {
     "end_time": "2018-05-24T07:47:25.094797Z",
     "start_time": "2018-05-24T07:47:25.048277Z"
    }
   },
   "outputs": [],
   "source": [
    "A.show(results, end=3, fmt='layout-orig-full', colorMap=colorMap)"
   ]
  },
  {
   "cell_type": "markdown",
   "metadata": {},
   "source": [
    "---\n",
    "\n",
    "next: [share](share.ipynb)\n",
    "\n",
    "---\n",
    "\n",
    "full tutorial: [annotation/tutorials/dss](https://nbviewer.jupyter.org/github/annotation/tutorials/blob/master/dss/start.ipynb)"
   ]
  }
 ],
 "metadata": {
  "kernelspec": {
   "display_name": "Python 3",
   "language": "python",
   "name": "python3"
  },
  "language_info": {
   "codemirror_mode": {
    "name": "ipython",
    "version": 3
   },
   "file_extension": ".py",
   "mimetype": "text/x-python",
   "name": "python",
   "nbconvert_exporter": "python",
   "pygments_lexer": "ipython3",
   "version": "3.7.2"
  }
 },
 "nbformat": 4,
 "nbformat_minor": 4
}

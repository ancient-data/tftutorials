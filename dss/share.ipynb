{
 "cells": [
  {
   "cell_type": "markdown",
   "metadata": {},
   "source": [
    "<img align=\"right\" src=\"images/tf.png\" width=\"128\"/>\n",
    "<img align=\"right\" src=\"images/logo.png\" width=\"128\"/>\n",
    "<img align=\"right\" src=\"images/etcbc.png\" width=\"128\"/>\n",
    "<img align=\"right\" src=\"images/dans.png\" width=\"128\"/>\n",
    "\n",
    "previous: [start](start.ipynb)\n",
    "\n",
    "---\n",
    "\n",
    "# Sharing data features"
   ]
  },
  {
   "cell_type": "code",
   "execution_count": null,
   "metadata": {
    "ExecuteTime": {
     "end_time": "2018-05-24T10:06:39.818664Z",
     "start_time": "2018-05-24T10:06:39.796588Z"
    }
   },
   "outputs": [],
   "source": [
    "import collections\n",
    "import os\n",
    "\n",
    "from tf.app import use"
   ]
  },
  {
   "cell_type": "code",
   "execution_count": null,
   "metadata": {},
   "outputs": [],
   "source": [
    "A = use('dss', hoist=globals(), silent='deep')\n",
    "silentOff()"
   ]
  },
  {
   "cell_type": "markdown",
   "metadata": {},
   "source": [
    "# Making data\n",
    "\n",
    "A certain consonant gets `cert=100`.\n",
    "\n",
    "Penalties:\n",
    "\n",
    "feature | value | penalty | description\n",
    "--- | --- | --- | ---\n",
    "unc | 1 | 10 | uncertainty level 1\n",
    "unc | 2 | 20 | uncertainty level 2\n",
    "unc | 3 | 30 | uncertainty level 3\n",
    "unc | 4 | 40 | uncertainty level 4\n",
    "rec | 1 | 45 | modern reconstruction\n",
    "rem | 1 | 40 | modern removal\n",
    "rem | 2 | 20 | ancient removal\n",
    "cor | 1 | 18 | modern correction\n",
    "cor | 2 | 12 | ancient correction\n",
    "alt | 1 | 25 | alternate reading\n",
    "\n",
    "The minimum is `1`.\n",
    "\n",
    "We extend the `cert` measure to words, fragments and scrolls by averaging."
   ]
  },
  {
   "cell_type": "markdown",
   "metadata": {},
   "source": [
    "## The measure function"
   ]
  },
  {
   "cell_type": "code",
   "execution_count": null,
   "metadata": {},
   "outputs": [],
   "source": [
    "def measure(s):\n",
    "  c = 100\n",
    "  d = F.unc.v(s)\n",
    "  if d:\n",
    "    c -= 10 * d\n",
    "  d = F.rec.v(s)\n",
    "  if d:\n",
    "    c -= 45\n",
    "  d = F.rem.v(s)\n",
    "  if d == 1:\n",
    "    c -= 40\n",
    "  elif d == 2:\n",
    "    c -= 20\n",
    "  d = F.cor.v(s)\n",
    "  if d == 2 or d == 3:\n",
    "    c -= 12\n",
    "  elif d == 1:\n",
    "    c -= 18\n",
    "  d = F.alt.v(s)\n",
    "  if d:\n",
    "    c -= 25\n",
    "  if c < 1:\n",
    "    c = 1\n",
    "  return c"
   ]
  },
  {
   "cell_type": "markdown",
   "metadata": {},
   "source": [
    "## Measure everything"
   ]
  },
  {
   "cell_type": "code",
   "execution_count": null,
   "metadata": {},
   "outputs": [],
   "source": [
    "CONS = 'cons'\n",
    "cert = {}\n",
    "\n",
    "indent(reset=True)\n",
    "\n",
    "for sc in F.otype.s('scroll'):\n",
    "  fN = 0\n",
    "  fSum = 0\n",
    "  \n",
    "  for f in L.d(sc, otype='fragment'):\n",
    "    lN = 0\n",
    "    lSum = 0\n",
    "    \n",
    "    for l in L.d(f, otype='line'):\n",
    "      wN = 0\n",
    "      wSum = 0\n",
    "      \n",
    "      for w in L.d(l, otype='word'):\n",
    "        sN = 0\n",
    "        sSum = 0\n",
    "        \n",
    "        for s in L.d(w, otype='sign'):\n",
    "          if F.type.v(s) != CONS:\n",
    "            continue\n",
    "          sCert = measure(s)\n",
    "          cert[s] = sCert\n",
    "          sN += 1\n",
    "          sSum += sCert\n",
    "          \n",
    "        if sN:\n",
    "          wCert = int(round(sSum / sN))\n",
    "          cert[w] = wCert\n",
    "          wN += 1\n",
    "          wSum += wCert\n",
    "          \n",
    "      if wN:\n",
    "        lCert = int(round(wSum / wN))\n",
    "        cert[l] = lCert\n",
    "        lN += 1\n",
    "        lSum += lCert\n",
    "        \n",
    "    if lN:\n",
    "      fCert = int(round(lSum / lN))\n",
    "      cert[f] = fCert\n",
    "      fN += 1\n",
    "      fSum += fCert\n",
    "      \n",
    "  if fN:\n",
    "    scCert = int(round(fSum / fN))\n",
    "    cert[sc] = scCert\n",
    "    \n",
    "info(f'{len(cert)} certainties determined')"
   ]
  },
  {
   "cell_type": "markdown",
   "metadata": {},
   "source": [
    "# Saving data"
   ]
  },
  {
   "cell_type": "markdown",
   "metadata": {},
   "source": [
    "## Location"
   ]
  },
  {
   "cell_type": "code",
   "execution_count": null,
   "metadata": {},
   "outputs": [],
   "source": [
    "GITHUB = os.path.expanduser('~/github')\n",
    "ORG = 'ancient-data'\n",
    "REPO = 'dss'\n",
    "PATH = 'exercises'\n",
    "VERSION = A.version"
   ]
  },
  {
   "cell_type": "markdown",
   "metadata": {},
   "source": [
    "## Metadata"
   ]
  },
  {
   "cell_type": "code",
   "execution_count": null,
   "metadata": {},
   "outputs": [],
   "source": [
    "metaData = {\n",
    "  'cert': dict(\n",
    "    valueType='int',\n",
    "    description='measure of certainty of material, between 1 and 100 (most certain)',\n",
    "    creator='Dirk Roorda',\n",
    "  ),\n",
    "}"
   ]
  },
  {
   "cell_type": "markdown",
   "metadata": {},
   "source": [
    "## Save action"
   ]
  },
  {
   "cell_type": "code",
   "execution_count": null,
   "metadata": {},
   "outputs": [],
   "source": [
    "TF.save(nodeFeatures=dict(cert=cert), metaData=metaData, location=f'{GITHUB}/{ORG}/{REPO}/{PATH}/tf', module=VERSION)"
   ]
  },
  {
   "cell_type": "markdown",
   "metadata": {},
   "source": [
    "# Share the data"
   ]
  },
  {
   "cell_type": "code",
   "execution_count": null,
   "metadata": {},
   "outputs": [],
   "source": [
    "%%bash -s \"$GITHUB\" \"$ORG\" \"$REPO\" \n",
    "cd $1/$2/$3\n",
    "git add --all .\n",
    "git commit -m \"cert feature added\"\n",
    "git push origin master"
   ]
  },
  {
   "cell_type": "markdown",
   "metadata": {},
   "source": [
    "---\n",
    "\n",
    "next: [use](use.ipynb)\n",
    "\n",
    "---\n",
    "\n",
    "full tutorial: [annotation/tutorials/dss](https://nbviewer.jupyter.org/github/annotation/tutorials/blob/master/dss/start.ipynb)"
   ]
  }
 ],
 "metadata": {
  "kernelspec": {
   "display_name": "Python 3",
   "language": "python",
   "name": "python3"
  },
  "language_info": {
   "codemirror_mode": {
    "name": "ipython",
    "version": 3
   },
   "file_extension": ".py",
   "mimetype": "text/x-python",
   "name": "python",
   "nbconvert_exporter": "python",
   "pygments_lexer": "ipython3",
   "version": "3.7.2"
  }
 },
 "nbformat": 4,
 "nbformat_minor": 4
}
